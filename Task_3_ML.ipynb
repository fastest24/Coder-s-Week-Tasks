{
  "nbformat": 4,
  "nbformat_minor": 0,
  "metadata": {
    "colab": {
      "name": "Task 3 ML",
      "provenance": [],
      "collapsed_sections": []
    },
    "kernelspec": {
      "name": "python3",
      "display_name": "Python 3"
    }
  },
  "cells": [
    {
      "cell_type": "code",
      "metadata": {
        "id": "lpO8RPLLH63e",
        "colab_type": "code",
        "colab": {}
      },
      "source": [
        "#import statements\n",
        "import pandas as pd\n",
        "import numpy as np\n",
        "import matplotlib.pyplot as plt\n",
        "from sklearn import linear_model\n",
        "from sklearn import metrics\n",
        "from sklearn.model_selection import train_test_split\n",
        "from sklearn.preprocessing import LabelEncoder\n",
        "from sklearn.ensemble import RandomForestClassifier\n",
        "from sklearn.metrics import classification_report, confusion_matrix"
      ],
      "execution_count": 0,
      "outputs": []
    },
    {
      "cell_type": "code",
      "metadata": {
        "id": "6HUxRxBLk1Ou",
        "colab_type": "code",
        "colab": {
          "base_uri": "https://localhost:8080/",
          "height": 724
        },
        "outputId": "fd4e4dea-2e24-4bb1-e383-a9156ae8370e"
      },
      "source": [
        "#loading data\n",
        "df = pd.read_csv(\"http://iali.in/datasets/mushrooms.csv\")\n",
        "#using label encoding to convert the dataframe\n",
        "Encoder=LabelEncoder()\n",
        "for col in df.columns:\n",
        "    df[col]=Encoder.fit_transform(df[col])\n",
        "#choosing the feature to predict\n",
        "x=df.iloc[:,1:23]\n",
        "y=df[['class']]\n",
        "#splitting training and testing sets\n",
        "x_train, x_test, y_train, y_test = train_test_split(x, y, test_size = 0.2, random_state = 42)\n",
        "#using random forest classifier model\n",
        "RF=RandomForestClassifier()\n",
        "RF.fit(x_train,y_train)\n",
        "#testing the model\n",
        "y_pred=RF.predict(x_test)\n",
        "print(RF.score(x_train, y_train))\n",
        "print(RF.score(x_test, y_test))\n",
        "print(classification_report(y_test, y_pred))\n",
        "\n",
        "#plotting the results\n",
        "cm = confusion_matrix(y_test, y_pred)\n",
        "fig, ax = plt.subplots(figsize=(8, 8))\n",
        "ax.imshow(cm)\n",
        "ax.grid(False)\n",
        "ax.xaxis.set(ticks=(0, 1), ticklabels=('Predicted Edible', 'Predicted Poisoned'))\n",
        "ax.yaxis.set(ticks=(0, 1), ticklabels=('Actual Edible', 'Actual Poisoned'))\n",
        "ax.set_ylim(1.5, -0.5)\n",
        "for i in range(2):\n",
        "    for j in range(2):\n",
        "        ax.text(j, i, cm[i, j], ha='center', va='center', color='white')\n",
        "plt.show()\n",
        "\n"
      ],
      "execution_count": 62,
      "outputs": [
        {
          "output_type": "stream",
          "text": [
            "/usr/local/lib/python3.6/dist-packages/ipykernel_launcher.py:14: DataConversionWarning: A column-vector y was passed when a 1d array was expected. Please change the shape of y to (n_samples,), for example using ravel().\n",
            "  \n"
          ],
          "name": "stderr"
        },
        {
          "output_type": "stream",
          "text": [
            "1.0\n",
            "1.0\n",
            "              precision    recall  f1-score   support\n",
            "\n",
            "           0       1.00      1.00      1.00       843\n",
            "           1       1.00      1.00      1.00       782\n",
            "\n",
            "    accuracy                           1.00      1625\n",
            "   macro avg       1.00      1.00      1.00      1625\n",
            "weighted avg       1.00      1.00      1.00      1625\n",
            "\n"
          ],
          "name": "stdout"
        },
        {
          "output_type": "display_data",
          "data": {
            "image/png": "[encoded data removed]",
            "text/plain": [
              "<Figure size 576x576 with 1 Axes>"
            ]
          },
          "metadata": {
            "tags": [],
            "needs_background": "light"
          }
        }
      ]
    },
    {
      "cell_type": "code",
      "metadata": {
        "id": "bWp_Pz3Imt-o",
        "colab_type": "code",
        "colab": {
          "base_uri": "https://localhost:8080/",
          "height": 724
        },
        "outputId": "f1c80731-63c8-4509-8c83-4fdf7b56750f"
      },
      "source": [
        "#using the logistic regression classifier\n",
        "logistic_reg = linear_model.LogisticRegression(solver='liblinear', C=50, random_state = 42)\n",
        "logistic_reg.fit(x_train, y_train)\n",
        "y_pred = logistic_reg.predict(x_test)\n",
        "\n",
        "#checking training & testing scores\n",
        "print(logistic_reg.score(x_train, y_train))\n",
        "print(logistic_reg.score(x_test, y_test))\n",
        "print(classification_report(y_pred, y_test))\n",
        "\n",
        "#plotting the results\n",
        "cm = confusion_matrix(y_test, y_pred)\n",
        "fig, ax = plt.subplots(figsize=(8, 8))\n",
        "ax.imshow(cm)\n",
        "ax.grid(False)\n",
        "ax.xaxis.set(ticks=(0, 1), ticklabels=('Predicted Edible', 'Predicted Poisoned'))\n",
        "ax.yaxis.set(ticks=(0, 1), ticklabels=('Actual Edible', 'Actual Poisoned'))\n",
        "ax.set_ylim(1.5, -0.5)\n",
        "for i in range(2):\n",
        "    for j in range(2):\n",
        "        ax.text(j, i, cm[i, j], ha='center', va='center', color='white')\n",
        "plt.show()"
      ],
      "execution_count": 63,
      "outputs": [
        {
          "output_type": "stream",
          "text": [
            "/usr/local/lib/python3.6/dist-packages/sklearn/utils/validation.py:760: DataConversionWarning: A column-vector y was passed when a 1d array was expected. Please change the shape of y to (n_samples, ), for example using ravel().\n",
            "  y = column_or_1d(y, warn=True)\n"
          ],
          "name": "stderr"
        },
        {
          "output_type": "stream",
          "text": [
            "0.9670718572088014\n",
            "0.9649230769230769\n",
            "              precision    recall  f1-score   support\n",
            "\n",
            "           0       0.96      0.97      0.97       830\n",
            "           1       0.97      0.96      0.96       795\n",
            "\n",
            "    accuracy                           0.96      1625\n",
            "   macro avg       0.97      0.96      0.96      1625\n",
            "weighted avg       0.97      0.96      0.96      1625\n",
            "\n"
          ],
          "name": "stdout"
        },
        {
          "output_type": "display_data",
          "data": {
            "image/png": "[encoded data removed]",
            "text/plain": [
              "<Figure size 576x576 with 1 Axes>"
            ]
          },
          "metadata": {
            "tags": [],
            "needs_background": "light"
          }
        }
      ]
    }
  ]
}